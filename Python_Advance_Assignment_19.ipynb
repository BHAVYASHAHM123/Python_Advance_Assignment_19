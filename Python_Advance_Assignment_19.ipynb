{
  "cells": [
    {
      "cell_type": "markdown",
      "id": "fa006156",
      "metadata": {
        "id": "fa006156"
      },
      "source": [
        "Q1). Define the relationship between a class and its instances. Is it a one-to-one or a one-to-many partnership, for example?\n",
        "\n",
        "Ans)  Class is abstraction of an real world entity. It consists of attributes and methods. Instance is an object of a class. It one to many relationship between class and its instatnces."
      ]
    },
    {
      "cell_type": "markdown",
      "id": "31f507a9",
      "metadata": {
        "id": "31f507a9"
      },
      "source": [
        "Q2). What kind of data is held only in an instance?\n",
        "\n",
        "Ans) Instance objects contains the Instance variables which are specific to that specific Instance object."
      ]
    },
    {
      "cell_type": "markdown",
      "id": "ba1c99ea",
      "metadata": {
        "id": "ba1c99ea"
      },
      "source": [
        "Q3). What kind of knowledge is stored in a class?\n",
        "\n",
        "Ans) Class creates a user-defined data structure, which holds its own data members and member functions,which can be accessed and used by creating an instance of that class. A class is like a blueprint for an object. "
      ]
    },
    {
      "cell_type": "markdown",
      "id": "d2a2348a",
      "metadata": {
        "id": "d2a2348a"
      },
      "source": [
        "Q4. What exactly is a method, and how is it different from a regular function? \n",
        "\n",
        "Ans) The methods with a class can be used to access the insatnce variables of its instance. So, the object's state can be modified by its method.Function cant access the attributes of an instance of a class or cant modify the state of the object."
      ]
    },
    {
      "cell_type": "markdown",
      "id": "2b14c935",
      "metadata": {
        "id": "2b14c935"
      },
      "source": [
        "Q5). Is inheritance supported in Python, and if so, what is the syntax?\n",
        "\n",
        "Ans) Inheritance is supported by python "
      ]
    },
    {
      "cell_type": "code",
      "execution_count": 1,
      "id": "2028cb85",
      "metadata": {
        "colab": {
          "base_uri": "https://localhost:8080/"
        },
        "id": "2028cb85",
        "outputId": "7a9f8716-1841-4ff2-9fe0-8ecd43e180d7"
      },
      "outputs": [
        {
          "output_type": "stream",
          "name": "stdout",
          "text": [
            "Class of Instance: <class '__main__.B'>\n",
            "Base class: (<class '__main__.A'>,)\n"
          ]
        }
      ],
      "source": [
        "class A:\n",
        "        var=1\n",
        "        def __init__(self):\n",
        "            pass\n",
        "class B(A): \n",
        "    def __init__(self):\n",
        "        super().__init__()\n",
        "c=B()\n",
        "print(\"Class of Instance:\",c.__class__)\n",
        "print(\"Base class:\",c.__class__.__bases__)"
      ]
    },
    {
      "cell_type": "markdown",
      "id": "66a4780d",
      "metadata": {
        "id": "66a4780d"
      },
      "source": [
        "Q6). How much encapsulation (making instance or class variables private) does Python support?\n",
        "\n",
        "Ans)Encapsulation prevents from accessing accidentally, but not intentionally. The private attributes and methods are not really hidden. The private attributes can be accessed within the object method."
      ]
    },
    {
      "cell_type": "markdown",
      "id": "747e3509",
      "metadata": {
        "id": "747e3509"
      },
      "source": [
        "Q7). How do you distinguish between a class variable and an instance variable?\n",
        "\n",
        "Ans)The class attribute is available to all the instance objects of that class. Instance variable is accessible only to the object or Instance of that class."
      ]
    },
    {
      "cell_type": "markdown",
      "id": "b7db719e",
      "metadata": {
        "id": "b7db719e"
      },
      "source": [
        "Q8). When, if ever, can self be included in a class's method definitions?\n",
        "\n",
        "Ans) self can included to access the class variables and instance variiables."
      ]
    },
    {
      "cell_type": "markdown",
      "id": "4ec0e1b5",
      "metadata": {
        "id": "4ec0e1b5"
      },
      "source": [
        "Q9). What is the difference between the _ _add_ _ and the _ _radd_ _ methods?\n",
        "\n",
        "Ans)When you add two numbers using the + operator, internally, the __add__() method will be called.We can overload this method to perform"
      ]
    },
    {
      "cell_type": "code",
      "execution_count": null,
      "id": "6673a756",
      "metadata": {
        "id": "6673a756"
      },
      "outputs": [],
      "source": [
        ""
      ]
    },
    {
      "cell_type": "markdown",
      "id": "1bee6323",
      "metadata": {
        "id": "1bee6323"
      },
      "source": [
        "Q10). When is it necessary to use a reflection method? When do you not need it, even though you support the operation in question?\n",
        "\n",
        "Ans) Suppose we are implementing a class that you want to act like a number via operator overloading.So we implement __add__ in your class, and now expressions like obj + 10 is acceptable.This is because obj + 10 is interpreted as obj.__add__(10), and the custom method __add__ can do whatever it means to add 10 to custom class. However, what about an expression like 10 + obj which is really (10).__add__(myobj)?  The 10 is an instance of a Python built-in type and its __add__ method doesn't know anything about the new type,obj, so it will return a error NotImplemented.To handle such scenarios, __radd__ is used. Python will first try (10).__add__(myobj),and if that returns NotImplemented, Python will check if the right-hand operand implements __radd__, and if it does, it will call obj.__radd__(10) rather than raising a TypeError."
      ]
    },
    {
      "cell_type": "markdown",
      "id": "754b47a3",
      "metadata": {
        "id": "754b47a3"
      },
      "source": [
        "Q11). What is the _ _iadd_ _ method called?\n",
        "\n",
        "Ans) __iadd__ method is called when we use implementation like a+=b which is a.__iadd__(b)"
      ]
    },
    {
      "cell_type": "code",
      "execution_count": 2,
      "id": "ada157e4",
      "metadata": {
        "colab": {
          "base_uri": "https://localhost:8080/"
        },
        "id": "ada157e4",
        "outputId": "dc006065-0437-4187-c9a8-29cb5516cc6a"
      },
      "outputs": [
        {
          "output_type": "stream",
          "name": "stdout",
          "text": [
            "5\n"
          ]
        }
      ],
      "source": [
        "class A:\n",
        "    def __init__(self,x):\n",
        "        self.x=x\n",
        "    def __iadd__(self,other):\n",
        "        self.x += other.x\n",
        "        return self.x\n",
        "obj1=A(2)\n",
        "obj2=A(3)\n",
        "obj1+=obj2\n",
        "print(obj1)"
      ]
    },
    {
      "cell_type": "markdown",
      "id": "8dde49b3",
      "metadata": {
        "id": "8dde49b3"
      },
      "source": [
        "Q12). Is the _ _init_ _ method inherited by subclasses? What do you do if you need to customize its behavior within a subclass?\n",
        "\n",
        "Ans) __init__ method is inherited by its subclass. But it can be overloaded, to customize it "
      ]
    },
    {
      "cell_type": "code",
      "execution_count": 4,
      "id": "bf71e0d6",
      "metadata": {
        "colab": {
          "base_uri": "https://localhost:8080/"
        },
        "id": "bf71e0d6",
        "outputId": "51efc8b7-917f-4a38-cb72-b531e92de430"
      },
      "outputs": [
        {
          "output_type": "execute_result",
          "data": {
            "text/plain": [
              "7"
            ]
          },
          "metadata": {},
          "execution_count": 4
        }
      ],
      "source": [
        "class A:\n",
        "    def __init__(self,x):\n",
        "        self.x=x\n",
        "class B(A):\n",
        "    pass\n",
        "obj=B(2)\n",
        "obj.x \n",
        "\n",
        "class C(A):\n",
        "    def __init__(self,x,y): \n",
        "        self.x=x\n",
        "        self.y=y\n",
        "    def func(self):\n",
        "        return(self.x + self.y)\n",
        "obj1=C(3,4)\n",
        "obj1.func()"
      ]
    },
    {
      "cell_type": "code",
      "source": [
        ""
      ],
      "metadata": {
        "id": "8G6cPk3eGzku"
      },
      "id": "8G6cPk3eGzku",
      "execution_count": null,
      "outputs": []
    }
  ],
  "metadata": {
    "kernelspec": {
      "display_name": "Python 3",
      "language": "python",
      "name": "python3"
    },
    "language_info": {
      "codemirror_mode": {
        "name": "ipython",
        "version": 3
      },
      "file_extension": ".py",
      "mimetype": "text/x-python",
      "name": "python",
      "nbconvert_exporter": "python",
      "pygments_lexer": "ipython3",
      "version": "3.8.8"
    },
    "colab": {
      "name": "Python_Advance_Assignment_19.ipynb",
      "provenance": []
    }
  },
  "nbformat": 4,
  "nbformat_minor": 5
}